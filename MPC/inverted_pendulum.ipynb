{
 "cells": [
  {
   "cell_type": "code",
   "execution_count": null,
   "metadata": {},
   "outputs": [],
   "source": [
    "import numpy as np\n",
    "import matplotlib.pyplot as plt\n",
    "import IPython.display\n",
    "import time"
   ]
  },
  {
   "cell_type": "code",
   "execution_count": 170,
   "metadata": {},
   "outputs": [],
   "source": [
    "class InvertedPendulum:\n",
    "\n",
    "    def __init__(self):\n",
    "        # Dynamics constants\n",
    "        self.gravity   = 9.8\n",
    "        self.masscart  = 1.0\n",
    "        self.masspole  = 0.1\n",
    "        self.length    = 5   \n",
    "        self.epsilon   = self.masspole/(self.masspole+self.masscart )\n",
    "\n",
    "    def ode(self, state, control):\n",
    "        \"\"\"Continuous-time dynamics of an inverted pendulum expressed as an ODE.\"\"\"\n",
    "        x, v, theta, omega = state\n",
    "        f = control\n",
    "        return np.array([\n",
    "            v,\n",
    "            -self.epsilon * theta + f,\n",
    "            omega,\n",
    "            theta - f,\n",
    "        ])\n",
    "\n",
    "    def discrete_step(self, state, control, dt):\n",
    "        \"\"\"Discrete-time dynamics (Euler-integrated) of an inverted pendulum.\"\"\"\n",
    "        x, v, theta, omega = state\n",
    "        return state + dt * self.ode(state, control)"
   ]
  },
  {
   "cell_type": "code",
   "execution_count": 182,
   "metadata": {},
   "outputs": [],
   "source": [
    "def plot_traj(state_sequence): \n",
    "    \"\"\"Input a N*4*1 matrix, will prinit trajectory as an animation\"\"\"\n",
    "    N = len(state_sequence)\n",
    "\n",
    "    for i in range(N):\n",
    "        # pole\n",
    "        plt.scatter(state_sequence[i,0]+5*np.sin(state_sequence[i,2]),5*np.cos(state_sequence[i,2]),marker='o')\n",
    "        # cart\n",
    "        plt.scatter(state_sequence[i,0],0,marker='o')\n",
    "        \n",
    "        plt.xlim([-10, 10])\n",
    "        plt.ylim([-10, 10])\n",
    "        IPython.display.clear_output(wait=True)\n",
    "        display(plt.gcf())\n",
    "        time.sleep(0.01)\n",
    "        plt.clf()  # Clear the current figure"
   ]
  },
  {
   "cell_type": "code",
   "execution_count": 183,
   "metadata": {},
   "outputs": [
    {
     "data": {
      "image/png": "[encoded data removed]",
      "text/plain": [
       "<Figure size 640x480 with 1 Axes>"
      ]
     },
     "metadata": {},
     "output_type": "display_data"
    },
    {
     "data": {
      "text/plain": [
       "<Figure size 640x480 with 0 Axes>"
      ]
     },
     "metadata": {},
     "output_type": "display_data"
    }
   ],
   "source": [
    "car = InvertedPendulum()\n",
    "N = 50\n",
    "dt = 0.1\n",
    "\n",
    "# control input\n",
    "u = np.ones(N) \n",
    "for i in range(N):\n",
    "    if (i%2 !=0):\n",
    "        u[i] = 1+i\n",
    "    else:\n",
    "        u[i] = -1-i\n",
    "\n",
    "# initial state\n",
    "x0 = np.array([0,0,-np.pi/2,0]) \n",
    "\n",
    "state = np.zeros((N+1,4))\n",
    "state[0] = x0\n",
    "for i in range(N):\n",
    "    state[i+1] = car.discrete_step(state[i],u[i],dt)\n",
    "\n",
    "plot_traj(state)\n"
   ]
  },
  {
   "cell_type": "code",
   "execution_count": null,
   "metadata": {},
   "outputs": [],
   "source": []
  }
 ],
 "metadata": {
  "kernelspec": {
   "display_name": "base",
   "language": "python",
   "name": "python3"
  },
  "language_info": {
   "codemirror_mode": {
    "name": "ipython",
    "version": 3
   },
   "file_extension": ".py",
   "mimetype": "text/x-python",
   "name": "python",
   "nbconvert_exporter": "python",
   "pygments_lexer": "ipython3",
   "version": "3.9.13"
  },
  "orig_nbformat": 4
 },
 "nbformat": 4,
 "nbformat_minor": 2
}
