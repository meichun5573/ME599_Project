{
 "cells": [
  {
   "cell_type": "code",
   "execution_count": 1,
   "metadata": {},
   "outputs": [],
   "source": [
    "import numpy as np\n",
    "import matplotlib.pyplot as plt\n",
    "import IPython.display\n",
    "import time\n",
    "import cvxpy as cp\n",
    "from scipy.optimize import minimize "
   ]
  },
  {
   "cell_type": "code",
   "execution_count": 2,
   "metadata": {},
   "outputs": [],
   "source": [
    "class CartPoleSystem:\n",
    "\n",
    "    def __init__(self):\n",
    "        self.gravity   = -9.81\n",
    "        self.masscart  = 1.0\n",
    "        self.masspole  = 0.5\n",
    "        self.length    = 0.5\n",
    "        self.drag = 0\n",
    "\n",
    "    def ode(self, x, u):\n",
    "        m = self.masspole\n",
    "        M = self.masscart\n",
    "        L = self.length\n",
    "        d = self.drag\n",
    "        g = self.gravity\n",
    "        \n",
    "        Sx = np.sin(x[2])\n",
    "        Cx = np.cos(x[2])\n",
    "        D = m*L*L*(M+m*(1-Cx**2))\n",
    "        \n",
    "        dx = np.zeros(4)\n",
    "\n",
    "        dx[0] = x[1]\n",
    "        dx[1] = (1/D)*((-(m**2)*(L**2)*g*Cx*Sx + m*(L**2)*(m*L*(x[3]**2)*Sx - d*x[1])) + m*L*L*u)\n",
    "        dx[2] = x[3]\n",
    "        dx[3] = (1/D)*((m+M)*m*g*L*Sx - m*L*Cx*(m*L*(x[3]**2)*Sx - d*x[1]) + m*L*Cx*u)\n",
    "\n",
    "        return dx\n",
    "    \n",
    "    def euler(self, state, control, dt):\n",
    "        \"\"\"Discrete-time dynamics (Euler-integrated) of an inverted pendulum.\"\"\"\n",
    "        return state + dt * self.ode(state, control)\n",
    "    \n",
    "    def rk4(self, ode, state, control, dt):\n",
    "        k1 = dt * ode(state, control)\n",
    "        k2 = dt * ode(state + k1 / 2, control)\n",
    "        k3 = dt * ode(state + k2 / 2, control)\n",
    "        k4 = dt * ode(state + k3, control)\n",
    "        return state + (k1 + 2 * k2 + 2 * k3 + k4) / 6"
   ]
  },
  {
   "cell_type": "code",
   "execution_count": 67,
   "metadata": {},
   "outputs": [],
   "source": [
    "def plot_traj(state_sequence): \n",
    "    \"\"\"Input a N*4*1 matrix, will prinit trajectory as an animation\"\"\"\n",
    "    N = len(state_sequence)\n",
    "\n",
    "    for i in range(N):\n",
    "        # pole\n",
    "        plt.scatter(state_sequence[i,0]+CartPoleSystem().length*np.sin(state_sequence[i,2]),-CartPoleSystem().length*np.cos(state_sequence[i,2]),marker='o',label = 'upper_mass')\n",
    "        # cart\n",
    "        plt.scatter(state_sequence[i,0],0,marker='o', s = 50,label = 'cart')\n",
    "        \n",
    "        plt.grid()\n",
    "        plt.legend()\n",
    "\n",
    "        num = int(state_sequence[i,0]/5)\n",
    "\n",
    "        plt.xlim([5*(num-1), 5*(num+1)])\n",
    "        plt.ylim([-5, 5])\n",
    "        \n",
    "        IPython.display.clear_output(wait=True)\n",
    "        display(plt.gcf())\n",
    "        time.sleep(0.01)\n",
    "        plt.clf()  # Clear the current figure"
   ]
  },
  {
   "cell_type": "code",
   "execution_count": 68,
   "metadata": {},
   "outputs": [
    {
     "data": {
      "image/png": "[encoded data removed]",
      "text/plain": [
       "<Figure size 640x480 with 1 Axes>"
      ]
     },
     "metadata": {},
     "output_type": "display_data"
    },
    {
     "data": {
      "text/plain": [
       "<Figure size 640x480 with 0 Axes>"
      ]
     },
     "metadata": {},
     "output_type": "display_data"
    }
   ],
   "source": [
    "car = CartPoleSystem()\n",
    "\n",
    "#generate random u, u \\in R^1\n",
    "N = 50 #steps\n",
    "u = np.zeros(N)\n",
    "dt = 0.1\n",
    "\n",
    "# initial state\n",
    "x0 = np.array([0,0,np.deg2rad(0)+0.1,0]) \n",
    "# x0 = np.array([-1,0,np.pi+0.1,0]) \n",
    "\n",
    "state = np.zeros((N+1,4))\n",
    "state[0] = x0\n",
    "for i in range(N):\n",
    "    state[i+1] = car.rk4(car.ode,state[i],u[i],dt)\n",
    "\n",
    "plot_traj(state)"
   ]
  },
  {
   "attachments": {},
   "cell_type": "markdown",
   "metadata": {},
   "source": [
    "## MPC\n"
   ]
  },
  {
   "cell_type": "code",
   "execution_count": 69,
   "metadata": {},
   "outputs": [],
   "source": [
    "def cost_scipy(us, bot, initial_state, Q, R, E, goal, MPC_horizon, dt):\n",
    "    n = 4 #state dimention\n",
    "    m = 1 #control dimention\n",
    "    \n",
    "    xs = np.zeros((MPC_horizon+1,n))\n",
    "    xs[0] = initial_state\n",
    "    # initial state is a parameter. It can be updated before solving the problem\n",
    "    \n",
    "    objective = 0\n",
    "    \n",
    "    for t in range(MPC_horizon):\n",
    "        objective += np.maximum(np.abs(xs[t][0]-5),0) * E\n",
    "        objective += np.sum(((xs[t]-goal)**2)@Q) + (us[t]**2)*R\n",
    "\n",
    "        xs[t+1] = bot.rk4(bot.ode,xs[t],us[t],dt)\n",
    "    objective += np.sum(((xs[t]-goal)**2)@Q)\n",
    "\n",
    "    return objective"
   ]
  },
  {
   "cell_type": "code",
   "execution_count": 86,
   "metadata": {},
   "outputs": [
    {
     "name": "stdout",
     "output_type": "stream",
     "text": [
      "[[ 0.          0.          0.          0.        ]\n",
      " [ 0.15259814 30.71776401  0.30161133 58.62647088]\n",
      " [ 0.45961169 30.93097597  0.83338609 48.19644473]\n",
      " [ 0.77409478 31.94955458  1.28424803 42.7901582 ]\n",
      " [ 1.109465   35.11249495  1.70714012 42.17992655]\n",
      " [ 1.51740946 46.48213579  2.11203046 37.87144476]\n",
      " [ 2.04271858 58.56489713  2.43740693 25.93585736]\n",
      " [ 2.66283782 65.4437632   2.65074485 16.19757089]\n",
      " [ 3.33344417 68.67131581  2.78651212 10.80929774]\n",
      " [ 4.02861167 70.35996258  2.87938039  7.7216192 ]\n",
      " [ 4.73743605 71.40418728  2.9465614   5.70054123]\n",
      " [ 5.45509148 72.12675099  2.99635138  4.25288653]\n",
      " [ 6.17899444 72.6539058   3.03349997  3.17572185]\n",
      " [ 6.90747531 73.04239398  3.06124305  2.37303261]\n",
      " [ 7.63933955 73.33057914  3.08197544  1.77395324]\n",
      " [ 8.37371768 73.54515644  3.09747483  1.32647499]\n",
      " [ 9.10996984 73.70536222  3.10906435  0.99190992]\n",
      " [ 9.84762176 73.82508966  3.11773091  0.7417903 ]\n",
      " [10.58632018 73.9146463   3.12421222  0.5547753 ]\n",
      " [11.32580162 73.9816818   3.1290596   0.41493276]\n",
      " [12.06586947 74.03191661  3.13268494  0.31031116]]\n"
     ]
    }
   ],
   "source": [
    "dt = 0.01\n",
    "n = 4 #state_dimention\n",
    "m = 1 #control_dimention\n",
    "\n",
    "N_MPC_horizon = 5\n",
    "N_total_horizon = 20\n",
    "\n",
    "cart = CartPoleSystem()\n",
    "\n",
    "Q = np.diag([0.1, 0.1, 1000000., 1000.]) \n",
    "R = np.diag([0.1])\n",
    "E = 9000\n",
    "\n",
    "MPC_states = np.zeros((N_total_horizon+1,n))   # size [time_horizon+1, n]\n",
    "MPC_controls = np.zeros((N_total_horizon+1,m)) # size [time_horizon, m]\n",
    "\n",
    "initial_state = np.array([0,0,0,0])\n",
    "goal_state = np.array([1,0,np.pi,0])\n",
    "\n",
    "k = 0\n",
    "MPC_states[0] = initial_state \n",
    "while k < N_total_horizon:\n",
    "    \n",
    "    result = minimize(cost_scipy, args=(CartPoleSystem(), MPC_states[k], Q, R, E, goal_state, N_MPC_horizon, dt),\n",
    "                  x0=np.zeros(N_MPC_horizon), method='SLSQP')\n",
    "\n",
    "    MPC_controls[k] = result.x[0]\n",
    "    MPC_states[k+1] = cart.rk4(cart.ode,MPC_states[k],MPC_controls[k],dt)\n",
    "    k += 1\n",
    "\n",
    "# print(MPC_controls)\n",
    "print(MPC_states)\n",
    "# print(np.rad2deg(MPC_states[:,2]))\n",
    "\n",
    "# plot_traj(MPC_states)"
   ]
  },
  {
   "cell_type": "code",
   "execution_count": 87,
   "metadata": {},
   "outputs": [
    {
     "data": {
      "image/png": "[encoded data removed]",
      "text/plain": [
       "<Figure size 640x480 with 1 Axes>"
      ]
     },
     "metadata": {},
     "output_type": "display_data"
    },
    {
     "data": {
      "text/plain": [
       "<Figure size 640x480 with 0 Axes>"
      ]
     },
     "metadata": {},
     "output_type": "display_data"
    }
   ],
   "source": [
    "# u = result.x\n",
    "\n",
    "# state = np.zeros((100,4))\n",
    "# state[0] = initial_state\n",
    "# for i in range(9):\n",
    "#     state[i+1] = cart.rk4(cart.ode,state[i],u[i],dt)\n",
    "\n",
    "# print(state)\n",
    "# # plot_traj(state)\n",
    "plot_traj(MPC_states)\n"
   ]
  }
 ],
 "metadata": {
  "kernelspec": {
   "display_name": "base",
   "language": "python",
   "name": "python3"
  },
  "language_info": {
   "codemirror_mode": {
    "name": "ipython",
    "version": 3
   },
   "file_extension": ".py",
   "mimetype": "text/x-python",
   "name": "python",
   "nbconvert_exporter": "python",
   "pygments_lexer": "ipython3",
   "version": "3.9.13"
  },
  "orig_nbformat": 4
 },
 "nbformat": 4,
 "nbformat_minor": 2
}
